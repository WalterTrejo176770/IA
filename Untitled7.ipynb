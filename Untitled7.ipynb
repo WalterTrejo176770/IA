{
  "nbformat": 4,
  "nbformat_minor": 0,
  "metadata": {
    "colab": {
      "provenance": []
    },
    "kernelspec": {
      "name": "python3",
      "display_name": "Python 3"
    },
    "language_info": {
      "name": "python"
    }
  },
  "cells": [
    {
      "cell_type": "code",
      "execution_count": 1,
      "metadata": {
        "colab": {
          "base_uri": "https://localhost:8080/"
        },
        "id": "xOCNzcnwDZJy",
        "outputId": "aab175d2-6906-4161-e2a9-3b649c7fdebc"
      },
      "outputs": [
        {
          "output_type": "stream",
          "name": "stdout",
          "text": [
            "Model Accuracy: 0.51\n",
            "Predicted Outcome (1=Pass, 0=Fail): 1\n"
          ]
        }
      ],
      "source": [
        "import numpy as np\n",
        "import pandas as pd\n",
        "\n",
        "# Problem Definition: Predicting Student Performance Based on Study Habits\n",
        "# Dataset: Simulated data for student study hours, sleep hours, and exam scores\n",
        "np.random.seed(42)\n",
        "data_size = 500\n",
        "\n",
        "data = pd.DataFrame({\n",
        "    'study_hours': np.random.randint(1, 10, data_size),\n",
        "    'sleep_hours': np.random.randint(4, 10, data_size),\n",
        "    'past_scores': np.random.randint(50, 100, data_size),\n",
        "    'pass_exam': np.random.choice([0, 1], size=data_size, p=[0.4, 0.6])  # 0: Fail, 1: Pass\n",
        "})\n",
        "\n",
        "# Splitting data into training and testing sets manually\n",
        "def train_test_split_manual(X, y, test_size=0.2):\n",
        "    split_idx = int(len(X) * (1 - test_size))\n",
        "    X_train, X_test = X[:split_idx], X[split_idx:]\n",
        "    y_train, y_test = y[:split_idx], y[split_idx:]\n",
        "    return X_train, X_test, y_train, y_test\n",
        "\n",
        "X = data[['study_hours', 'sleep_hours', 'past_scores']].values\n",
        "y = data['pass_exam'].values\n",
        "X_train, X_test, y_train, y_test = train_test_split_manual(X, y)\n",
        "\n",
        "# Implementing a Simple Decision Tree Classifier manually\n",
        "class SimpleDecisionTree:\n",
        "    def __init__(self):\n",
        "        self.thresholds = None\n",
        "\n",
        "    def fit(self, X, y):\n",
        "        self.thresholds = np.mean(X, axis=0)\n",
        "\n",
        "    def predict(self, X):\n",
        "        predictions = []\n",
        "        for sample in X:\n",
        "            if sample[0] > self.thresholds[0] and sample[2] > self.thresholds[2]:\n",
        "                predictions.append(1)  # Pass\n",
        "            else:\n",
        "                predictions.append(0)  # Fail\n",
        "        return np.array(predictions)\n",
        "\n",
        "# Training the model\n",
        "model = SimpleDecisionTree()\n",
        "model.fit(X_train, y_train)\n",
        "\n",
        "# Making Predictions\n",
        "y_pred = model.predict(X_test)\n",
        "\n",
        "# Evaluating the Model\n",
        "accuracy = np.mean(y_pred == y_test)\n",
        "print(f\"Model Accuracy: {accuracy:.2f}\")\n",
        "\n",
        "# Example Prediction\n",
        "sample_student = np.array([[7, 6, 85]])  # 7 study hours, 6 sleep hours, 85 past score\n",
        "prediction = model.predict(sample_student)\n",
        "print(\"Predicted Outcome (1=Pass, 0=Fail):\", prediction[0])\n"
      ]
    }
  ]
}