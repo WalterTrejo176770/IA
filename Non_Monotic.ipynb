{
  "nbformat": 4,
  "nbformat_minor": 0,
  "metadata": {
    "colab": {
      "provenance": [],
      "collapsed_sections": [
        "XNSNJOIIzKx2"
      ]
    },
    "kernelspec": {
      "name": "python3",
      "display_name": "Python 3"
    },
    "language_info": {
      "name": "python"
    }
  },
  "cells": [
    {
      "cell_type": "markdown",
      "source": [
        "##Logic"
      ],
      "metadata": {
        "id": "TdeNcOAGzOG_"
      }
    },
    {
      "cell_type": "code",
      "source": [
        "class DefaultLogic:\n",
        "    def __init__(self):\n",
        "        self.facts = set()  # Conjunto de hechos conocidos\n",
        "        self.exceptions = set()  # Conjunto de excepciones\n",
        "\n",
        "    def add_fact(self, fact):\n",
        "        \"\"\" Agrega un hecho al conocimiento \"\"\"\n",
        "        self.facts.add(fact)\n",
        "\n",
        "    def add_exception(self, exception):\n",
        "        \"\"\" Agrega una excepción a una regla \"\"\"\n",
        "        self.exceptions.add(exception)\n",
        "\n",
        "    def infer(self, entity, default_rule):\n",
        "        \"\"\" Realiza una inferencia usando lógica por defecto \"\"\"\n",
        "        prereq, assumption, conclusion = default_rule\n",
        "        if prereq in self.facts and assumption not in self.exceptions:\n",
        "            return conclusion+\" en \"+entity\n",
        "\n",
        "        return \"No se puede inferir su proximo movimiento\"\n",
        "\n",
        "# ---- DEMOSTRACIÓN ----\n",
        "logic = DefaultLogic()\n",
        "\n",
        "# Hecho conocido: Microsoft es una empresa\n",
        "logic.add_fact(\"Microsoft_es_una_empresa\")\n",
        "\n",
        "# Regla por defecto: Si es una empresa y no hay evidencia de que esta bajando su valor, entonces se invierte\n",
        "default_rule = (\"Microsoft_es_una_empresa\", \"esta_bajando_su_valor\", \"invertir\")\n",
        "\n",
        "# Inferimos que microsoft es una empresa\n",
        "print(logic.infer(\"Microsoft\", default_rule))  # Output: \"invertir\"\n",
        "\n"
      ],
      "metadata": {
        "colab": {
          "base_uri": "https://localhost:8080/"
        },
        "id": "MdsxrLZRzSaE",
        "outputId": "7c56d831-38b5-41c7-a652-fd4f35220c96"
      },
      "execution_count": null,
      "outputs": [
        {
          "output_type": "stream",
          "name": "stdout",
          "text": [
            "invertir en Microsoft\n"
          ]
        }
      ]
    },
    {
      "cell_type": "code",
      "source": [
        "# Ahora agregamos una excepción (descubrimos que su valor baja)\n",
        "logic.add_exception(\"esta_bajando_su_valor\")\n",
        "\n",
        "# Volvemos a inferir\n",
        "print(logic.infer(\"Microsoft\", default_rule))  # Output: \"No se puede inferir\""
      ],
      "metadata": {
        "colab": {
          "base_uri": "https://localhost:8080/"
        },
        "id": "dXZpe83K0PMz",
        "outputId": "e3ccc11c-5da7-4865-be35-e383037d40bb"
      },
      "execution_count": null,
      "outputs": [
        {
          "output_type": "stream",
          "name": "stdout",
          "text": [
            "No se puede inferir su proximo movimiento\n"
          ]
        }
      ]
    },
    {
      "cell_type": "markdown",
      "source": [
        "##ASP"
      ],
      "metadata": {
        "id": "XNSNJOIIzKx2"
      }
    },
    {
      "cell_type": "code",
      "source": [
        "pip install clingo\n"
      ],
      "metadata": {
        "colab": {
          "base_uri": "https://localhost:8080/"
        },
        "id": "uIQQ-ZS7upoN",
        "outputId": "f31c8798-e97b-4542-aad4-541b211444e4"
      },
      "execution_count": null,
      "outputs": [
        {
          "output_type": "stream",
          "name": "stdout",
          "text": [
            "Collecting clingo\n",
            "  Downloading clingo-5.7.1-cp311-cp311-manylinux_2_17_x86_64.manylinux2014_x86_64.whl.metadata (1.0 kB)\n",
            "Requirement already satisfied: cffi in /usr/local/lib/python3.11/dist-packages (from clingo) (1.17.1)\n",
            "Requirement already satisfied: pycparser in /usr/local/lib/python3.11/dist-packages (from cffi->clingo) (2.22)\n",
            "Downloading clingo-5.7.1-cp311-cp311-manylinux_2_17_x86_64.manylinux2014_x86_64.whl (2.2 MB)\n",
            "\u001b[?25l   \u001b[90m━━━━━━━━━━━━━━━━━━━━━━━━━━━━━━━━━━━━━━━━\u001b[0m \u001b[32m0.0/2.2 MB\u001b[0m \u001b[31m?\u001b[0m eta \u001b[36m-:--:--\u001b[0m\r\u001b[2K   \u001b[91m━━━━━━━━━━━━━━━━━━━━━━━━━━━━━━━━━━━━━━━\u001b[0m\u001b[91m╸\u001b[0m \u001b[32m2.2/2.2 MB\u001b[0m \u001b[31m111.0 MB/s\u001b[0m eta \u001b[36m0:00:01\u001b[0m\r\u001b[2K   \u001b[90m━━━━━━━━━━━━━━━━━━━━━━━━━━━━━━━━━━━━━━━━\u001b[0m \u001b[32m2.2/2.2 MB\u001b[0m \u001b[31m58.7 MB/s\u001b[0m eta \u001b[36m0:00:00\u001b[0m\n",
            "\u001b[?25hInstalling collected packages: clingo\n",
            "Successfully installed clingo-5.7.1\n"
          ]
        }
      ]
    },
    {
      "cell_type": "code",
      "source": [
        "import clingo  # Importamos la biblioteca clingo para trabajar con Answer Set Programming (ASP)\n",
        "\n",
        "# Programa inicial en ASP\n",
        "asp_program  = \"\"\"\n",
        "% Hechos iniciales\n",
        "crece(microsoft).\n",
        "no_crece(google).\n",
        "\n",
        "\n",
        "% Reglas\n",
        "invertir(X) :- crece(X).\n",
        "ahorrar(X) :- no_crece(X).\n",
        "\n",
        "\"\"\"\n",
        "\n",
        "# Función para resolver el programa ASP\n",
        "def solve_asp(program):\n",
        "    ctl = clingo.Control()  # Creamos una instancia del control de clingo\n",
        "    ctl.add(\"base\", [], program)  # Añadimos el programa ASP al control\n",
        "    ctl.ground([(\"base\", [])])  # Realizamos el grounding del programa (convertimos reglas en hechos específicos)\n",
        "    models = []  # Lista para almacenar los modelos de respuesta\n",
        "\n",
        "    # Resolvemos el programa y obtenemos los modelos de respuesta\n",
        "    with ctl.solve(yield_=True) as handle:\n",
        "        for model in handle:\n",
        "            models.append(model.symbols(atoms=True))  # Agregamos los símbolos del modelo a la lista de modelos\n",
        "    return models  # Devolvemos la lista de modelos\n",
        "\n",
        "# Resolver el programa inicial\n",
        "initial_models = solve_asp(asp_program)  # Llamamos a la función solve_asp con el programa inicial\n",
        "print(\"Modelos iniciales:\")\n",
        "for model in initial_models:\n",
        "    print(model)  # Imprimimos los modelos iniciales\n",
        "\n",
        "# Nueva información a agregar\n",
        "new_info = \"no_crece(tesla).\"  # Definimos nueva información que queremos agregar\n",
        "\n",
        "# Agregar la nueva información al programa ASP\n",
        "asp_program += new_info  # Añadimos la nueva información al programa ASP existente\n",
        "\n",
        "# Resolver el programa con la nueva información\n",
        "updated_models = solve_asp(asp_program)  # Llamamos a la función solve_asp con el programa actualizado\n",
        "print(\"\\nModelos actualizados con nueva información:\")\n",
        "for model in updated_models:\n",
        "    print(model)  # Imprimimos los modelos actualizados con la nueva información"
      ],
      "metadata": {
        "colab": {
          "base_uri": "https://localhost:8080/"
        },
        "id": "Md0rgqp8u0NU",
        "outputId": "2e6a96dd-5cb2-4205-be0c-d346a117779a"
      },
      "execution_count": null,
      "outputs": [
        {
          "output_type": "stream",
          "name": "stdout",
          "text": [
            "Modelos iniciales:\n",
            "[crece(microsoft), invertir(microsoft), no_crece(google), ahorrar(google)]\n",
            "\n",
            "Modelos actualizados con nueva información:\n",
            "[crece(microsoft), invertir(microsoft), no_crece(google), no_crece(tesla), ahorrar(google), ahorrar(tesla)]\n"
          ]
        }
      ]
    }
  ]
}