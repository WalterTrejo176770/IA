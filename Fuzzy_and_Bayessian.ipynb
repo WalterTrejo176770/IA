{
  "nbformat": 4,
  "nbformat_minor": 0,
  "metadata": {
    "colab": {
      "provenance": []
    },
    "kernelspec": {
      "name": "python3",
      "display_name": "Python 3"
    },
    "language_info": {
      "name": "python"
    }
  },
  "cells": [
    {
      "cell_type": "code",
      "execution_count": 2,
      "metadata": {
        "colab": {
          "base_uri": "https://localhost:8080/"
        },
        "id": "ClMd5AAvB1iV",
        "outputId": "27177b2e-0624-47df-ce74-99ac98d87ceb"
      },
      "outputs": [
        {
          "output_type": "stream",
          "name": "stdout",
          "text": [
            "Initial Quality: 80.00\n",
            "Adjusted Quality (with expert rules): 90.00\n"
          ]
        }
      ],
      "source": [
        "import numpy as np\n",
        "\n",
        "# Define membership functions for dimensions\n",
        "def dimensions_membership(value):\n",
        "    return {\n",
        "        'Small': max(0, min(1, (40 - value) / 40)),\n",
        "        'Medium': max(0, min((value - 30) / 20, (70 - value) / 20)),\n",
        "        'Large': max(0, min(1, (value - 60) / 40))\n",
        "    }\n",
        "\n",
        "# Define membership functions for weight\n",
        "def weight_membership(value):\n",
        "    return {\n",
        "        'Light': max(0, min(1, (20 - value) / 20)),\n",
        "        'Medium': max(0, min((value - 15) / 10, (35 - value) / 10)),\n",
        "        'Heavy': max(0, min(1, (value - 30) / 20))\n",
        "    }\n",
        "\n",
        "# Define membership functions for quality\n",
        "def quality_membership(value):\n",
        "    return {\n",
        "        'Low': max(0, min(1, (40 - value) / 40)),\n",
        "        'Medium': max(0, min((value - 30) / 20, (70 - value) / 20)),\n",
        "        'High': max(0, min(1, (value - 60) / 40))\n",
        "    }\n",
        "\n",
        "# Define fuzzy rules\n",
        "def fuzzy_rule(dim, wt):\n",
        "    dim_levels = dimensions_membership(dim)\n",
        "    wt_levels = weight_membership(wt)\n",
        "\n",
        "    low_quality = min(dim_levels['Small'], wt_levels['Light'])\n",
        "    medium_quality = min(dim_levels['Medium'], wt_levels['Medium'])\n",
        "    high_quality = min(dim_levels['Large'], wt_levels['Heavy'])\n",
        "\n",
        "    return {\n",
        "        'Low': low_quality,\n",
        "        'Medium': medium_quality,\n",
        "        'High': high_quality\n",
        "    }\n",
        "\n",
        "# Defuzzification using centroid method\n",
        "def defuzzify(quality_levels):\n",
        "    num = (quality_levels['Low'] * 20 +\n",
        "           quality_levels['Medium'] * 50 +\n",
        "           quality_levels['High'] * 80)\n",
        "    den = (quality_levels['Low'] + quality_levels['Medium'] + quality_levels['High'])\n",
        "\n",
        "    return num / den if den != 0 else 0\n",
        "\n",
        "# Expert system adjustment\n",
        "def expert_quality_adjust(material, finish, initial_quality):\n",
        "    expert_boost = 10  # Increment quality by 10 if expert conditions are met\n",
        "    if material == 'High-Grade' and finish == 'Smooth':\n",
        "        return min(initial_quality + expert_boost, 100)\n",
        "    return initial_quality\n",
        "\n",
        "# Example simulation\n",
        "sample_dimensions = 65\n",
        "sample_weight = 40\n",
        "sample_material = 'High-Grade'\n",
        "sample_finish = 'Smooth'\n",
        "\n",
        "fuzzy_quality = fuzzy_rule(sample_dimensions, sample_weight)\n",
        "initial_quality = defuzzify(fuzzy_quality)\n",
        "adjusted_quality = expert_quality_adjust(sample_material, sample_finish, initial_quality)\n",
        "\n",
        "print(f\"Initial Quality: {initial_quality:.2f}\")\n",
        "print(f\"Adjusted Quality (with expert rules): {adjusted_quality:.2f}\")\n"
      ]
    },
    {
      "cell_type": "code",
      "source": [
        "import numpy as np\n",
        "\n",
        "# Define probability distributions manually\n",
        "prob_speed = {0: 0.7, 1: 0.3}  # 0: Low Speed, 1: High Speed\n",
        "prob_distance = {0: 0.6, 1: 0.4}  # 0: Safe Distance, 1: Short Distance\n",
        "prob_road_condition = {0: 0.8, 1: 0.2}  # 0: Dry Road, 1: Wet Road\n",
        "\n",
        "# Define conditional probabilities for CollisionRisk\n",
        "prob_collision_risk = {\n",
        "    (0, 0, 0): 0.1, (0, 0, 1): 0.3, (0, 1, 0): 0.5, (0, 1, 1): 0.8,\n",
        "    (1, 0, 0): 0.3, (1, 0, 1): 0.6, (1, 1, 0): 0.7, (1, 1, 1): 0.95\n",
        "}\n",
        "\n",
        "# Function to compute collision risk\n",
        "def compute_collision_risk(speed, distance, road_condition):\n",
        "    return prob_collision_risk[(speed, distance, road_condition)]\n",
        "\n",
        "# Expert system adjustment\n",
        "def expert_adjustment(driver_behavior, vehicle_type, initial_risk):\n",
        "    if driver_behavior == 'Aggressive' and vehicle_type == 'Heavy':\n",
        "        return min(initial_risk + 0.2, 1.0)\n",
        "    return initial_risk\n",
        "\n",
        "# Example scenario\n",
        "sample_speed = 1  # High Speed\n",
        "sample_distance = 1  # Short Distance\n",
        "sample_road_condition = 1  # Wet Road\n",
        "sample_driver_behavior = 'Aggressive'\n",
        "sample_vehicle_type = 'Heavy'\n",
        "\n",
        "initial_risk = compute_collision_risk(sample_speed, sample_distance, sample_road_condition)\n",
        "adjusted_risk = expert_adjustment(sample_driver_behavior, sample_vehicle_type, initial_risk)\n",
        "\n",
        "print(f\"Initial Collision Risk: {initial_risk:.2f}\")\n",
        "print(f\"Adjusted Collision Risk (with expert rules): {adjusted_risk:.2f}\")\n"
      ],
      "metadata": {
        "colab": {
          "base_uri": "https://localhost:8080/"
        },
        "id": "nOsF4rsbCHpj",
        "outputId": "27597cde-2207-4126-c15e-b9120e365e99"
      },
      "execution_count": 4,
      "outputs": [
        {
          "output_type": "stream",
          "name": "stdout",
          "text": [
            "Initial Collision Risk: 0.95\n",
            "Adjusted Collision Risk (with expert rules): 1.00\n"
          ]
        }
      ]
    }
  ]
}