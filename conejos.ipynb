{
  "nbformat": 4,
  "nbformat_minor": 0,
  "metadata": {
    "colab": {
      "provenance": []
    },
    "kernelspec": {
      "name": "python3",
      "display_name": "Python 3"
    },
    "language_info": {
      "name": "python"
    }
  },
  "cells": [
    {
      "cell_type": "code",
      "execution_count": null,
      "metadata": {
        "colab": {
          "base_uri": "https://localhost:8080/"
        },
        "id": "NVNOQXmwwn1d",
        "outputId": "825433b5-1e48-4c6e-c4c9-3fa2b08929af"
      },
      "outputs": [
        {
          "output_type": "stream",
          "name": "stdout",
          "text": [
            "El siguiente valor predicho es: [308.20582366503584, 221.88093173212994, 156.03640803192138, 107.90546875, 73.75, 50]\n"
          ]
        }
      ],
      "source": [
        "def predict_next_value(conejos, tiempo):\n",
        "    # coefficients: pesos para los valores anteriores\n",
        "    growth_rate = 0.5\n",
        "    carrying_capacity = 1000\n",
        "    for i in range(tiempo):\n",
        "      next_value = conejos[0]+growth_rate*conejos[0]*(1-(conejos[0]/carrying_capacity))\n",
        "      conejos.insert(0, next_value)\n",
        "    return conejos\n",
        "\n",
        "# Ejemplo de uso\n",
        "conejos = [50]\n",
        "tiempo = 5\n",
        "values = predict_next_value(conejos, tiempo)\n",
        "print(f\"El siguiente valor predicho es: {values}\")"
      ]
    }
  ]
}