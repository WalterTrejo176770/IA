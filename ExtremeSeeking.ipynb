{
  "nbformat": 4,
  "nbformat_minor": 0,
  "metadata": {
    "colab": {
      "provenance": []
    },
    "kernelspec": {
      "name": "python3",
      "display_name": "Python 3"
    },
    "language_info": {
      "name": "python"
    }
  },
  "cells": [
    {
      "cell_type": "code",
      "execution_count": 1,
      "metadata": {
        "colab": {
          "base_uri": "https://localhost:8080/"
        },
        "id": "BaQ9ktpaOYvM",
        "outputId": "8bf20ba7-1359-4c3d-b25d-de4ee62ec1a1"
      },
      "outputs": [
        {
          "output_type": "stream",
          "name": "stdout",
          "text": [
            "Converged at iteration 605\n",
            "Minimum found at x = 4.917855841128087e-05, f(x) = 2.4185306074117642e-09\n"
          ]
        }
      ],
      "source": [
        "import numpy as np\n"
      ]
    },
    {
      "cell_type": "code",
      "source": [
        "def gradient_descent(func, grad_func, initial_guess, learning_rate=0.01, max_iter=1000, tolerance=1e-6):\n",
        "\n",
        "    current_point = initial_guess\n",
        "    for iteration in range(max_iter):\n",
        "        # Calculate the gradient at the current point\n",
        "        gradient = grad_func(current_point)\n",
        "\n",
        "        # Update the current point in the opposite direction of the gradient\n",
        "        next_point = current_point - learning_rate * gradient\n",
        "\n",
        "        # Check if the change is small enough to stop\n",
        "        if np.linalg.norm(next_point - current_point) < tolerance:\n",
        "            print(f\"Converged at iteration {iteration}\")\n",
        "            break\n",
        "\n",
        "        current_point = next_point\n",
        "\n",
        "    return current_point, func(current_point)"
      ],
      "metadata": {
        "id": "bLfEu5wIZMRM"
      },
      "execution_count": 7,
      "outputs": []
    },
    {
      "cell_type": "code",
      "source": [
        "def newton_method(func, grad_func, hess_func, initial_guess, max_iter=1000, tolerance=1e-6):\n",
        "    current_point = initial_guess\n",
        "    for iteration in range(max_iter):\n",
        "        # Calculate the gradient and Hessian at the current point\n",
        "        gradient = grad_func(current_point)\n",
        "        hessian = hess_func(current_point)\n",
        "\n",
        "        # If the Hessian is zero stop the process\n",
        "        if hessian == 0:\n",
        "            print(\"Hessian is zero. Stopping the algorithm.\")\n",
        "            break\n",
        "\n",
        "        # Update the current point\n",
        "        next_point = current_point - gradient / hessian\n",
        "\n",
        "        # Check if the change is small enough to stop\n",
        "        if np.abs(next_point - current_point) < tolerance:\n",
        "            print(f\"Converged at iteration {iteration}\")\n",
        "            break\n",
        "\n",
        "        current_point = next_point\n",
        "\n",
        "    return current_point, func(current_point)"
      ],
      "metadata": {
        "id": "TIownnNXZZ8T"
      },
      "execution_count": 13,
      "outputs": []
    },
    {
      "cell_type": "code",
      "source": [
        "def func(x):\n",
        "    return 3*x**2+2*x+1\n",
        "\n",
        "def grad_func(x):\n",
        "    return 6*x+2\n",
        "def hess_func(x):\n",
        "    return 6\n",
        "\n",
        "# Starting point\n",
        "initial_guess = 10\n",
        "\n",
        "min_point, min_value = gradient_descent(func, grad_func, initial_guess)\n",
        "print(f\"Minimum found at x = {min_point}, f(x) = {min_value}\")\n",
        "\n",
        "min_point_n, min_value_n = newton_method(func, grad_func, hess_func, initial_guess)\n",
        "print(f\"Minimum found at x = {min_point_n}, f(x) = {min_value_n}\")\n"
      ],
      "metadata": {
        "colab": {
          "base_uri": "https://localhost:8080/"
        },
        "id": "IiG2NagqZPHj",
        "outputId": "c1ebb0c2-5070-41ad-93fb-343ff136465d"
      },
      "execution_count": 15,
      "outputs": [
        {
          "output_type": "stream",
          "name": "stdout",
          "text": [
            "Converged at iteration 216\n",
            "Minimum found at x = -0.3333171205784541, f(x) = 0.6666666674552268\n",
            "Converged at iteration 1\n",
            "Minimum found at x = -0.3333333333333339, f(x) = 0.6666666666666667\n"
          ]
        }
      ]
    },
    {
      "cell_type": "code",
      "source": [
        "class Particle:\n",
        "    def __init__(self, dimensions, bounds):\n",
        "        self.position = np.random.uniform(bounds[0], bounds[1], dimensions)  # Random initial position\n",
        "        self.velocity = np.random.uniform(-1, 1, dimensions)  # Random initial velocity\n",
        "        self.best_position = np.copy(self.position)\n",
        "        self.best_value = float('inf')  # Initial best value (high)\n",
        "\n",
        "    def evaluate(self, func):\n",
        "        value = func(self.position)\n",
        "        if value < self.best_value:\n",
        "            self.best_value = value\n",
        "            self.best_position = np.copy(self.position)\n",
        "\n",
        "def pso(func, dimensions, bounds, num_particles=5, max_iter=10, w=0.5, c1=1.5, c2=1.5):\n",
        "    particles = [Particle(dimensions, bounds) for _ in range(num_particles)]\n",
        "\n",
        "    g_best_value = float('inf')\n",
        "    g_best_position = None\n",
        "\n",
        "    for iteration in range(max_iter):\n",
        "        for particle in particles:\n",
        "            particle.evaluate(func)\n",
        "\n",
        "            # Update global best if needed\n",
        "            if particle.best_value < g_best_value:\n",
        "                g_best_value = particle.best_value\n",
        "                g_best_position = np.copy(particle.best_position)\n",
        "\n",
        "        for particle in particles:\n",
        "            r1, r2 = np.random.rand(2)\n",
        "            particle.velocity = w * particle.velocity + c1 * r1 * (particle.best_position - particle.position) + c2 * r2 * (g_best_position - particle.position)\n",
        "            particle.position += particle.velocity\n",
        "\n",
        "            particle.position = np.clip(particle.position, bounds[0], bounds[1])\n",
        "\n",
        "        # Print progress\n",
        "        print(f\"Iteration {iteration+1}/{max_iter}, Best Value: {g_best_value}\")\n",
        "\n",
        "    return g_best_position, g_best_value\n",
        "\n",
        "def func(x):\n",
        "    return np.sum(3*x**2+2*x+1)  # sum of squares\n",
        "\n",
        "# Parameters\n",
        "dimensions = 2\n",
        "bounds = (-5, 5)  # Search space for each dimension\n",
        "num_particles = 5\n",
        "max_iter = 10\n",
        "\n",
        "# Run PSO\n",
        "best_position, best_value = pso(func, dimensions, bounds, num_particles, max_iter)\n",
        "\n",
        "print(f\"Best position found: {best_position}\")\n",
        "print(f\"Best value found: {best_value}\")"
      ],
      "metadata": {
        "colab": {
          "base_uri": "https://localhost:8080/"
        },
        "id": "-TJ7cOTyaFDg",
        "outputId": "a3d961da-19cb-423b-9806-5e6e852ac375"
      },
      "execution_count": 6,
      "outputs": [
        {
          "output_type": "stream",
          "name": "stdout",
          "text": [
            "Iteration 1/10, Best Value: 39.57695663102824\n",
            "Iteration 2/10, Best Value: 2.846726824795659\n",
            "Iteration 3/10, Best Value: 2.846726824795659\n",
            "Iteration 4/10, Best Value: 2.775297391939693\n",
            "Iteration 5/10, Best Value: 2.775297391939693\n",
            "Iteration 6/10, Best Value: 1.7373319061916295\n",
            "Iteration 7/10, Best Value: 1.56729382979386\n",
            "Iteration 8/10, Best Value: 1.56729382979386\n",
            "Iteration 9/10, Best Value: 1.56729382979386\n",
            "Iteration 10/10, Best Value: 1.56729382979386\n",
            "Best position found: [-0.60128965 -0.25468065]\n",
            "Best value found: 1.56729382979386\n"
          ]
        }
      ]
    },
    {
      "cell_type": "code",
      "source": [
        "def simulated_annealing(func, initial_solution, temp, cooling_rate, max_iter):\n",
        "\n",
        "    current_solution = np.copy(initial_solution)\n",
        "    current_value = func(current_solution)\n",
        "    best_solution = np.copy(current_solution)\n",
        "    best_value = current_value\n",
        "\n",
        "    for iteration in range(max_iter):\n",
        "\n",
        "        neighbor_solution = current_solution + np.random.uniform(-1, 1, size=current_solution.shape)\n",
        "        neighbor_value = func(neighbor_solution)\n",
        "\n",
        "        # Compute the change in value\n",
        "        delta_e = neighbor_value - current_value\n",
        "\n",
        "        # Decide whether to accept the neighbor solution\n",
        "        if delta_e < 0 or np.random.rand() < np.exp(-delta_e / temp):\n",
        "            current_solution = np.copy(neighbor_solution)\n",
        "            current_value = neighbor_value\n",
        "\n",
        "            # Update the best solution found so far\n",
        "            if current_value < best_value:\n",
        "                best_solution = np.copy(current_solution)\n",
        "                best_value = current_value\n",
        "\n",
        "        # Cool down the temperature\n",
        "        temp *= cooling_rate\n",
        "\n",
        "        print(f\"Iteration {iteration+1}/{max_iter}, Current Temperature: {temp:.4f}, Best Value: {best_value}\")\n",
        "\n",
        "    return best_solution, best_value\n",
        "\n",
        "def func(x):\n",
        "    return np.sum(3*x**2+2*x+1)  # sum of squares\n",
        "\n",
        "# Parameters\n",
        "initial_solution = np.array([10, 10])  # Starting point\n",
        "temp = 1000  # Initial temperature\n",
        "cooling_rate = 0.995  # Cooling rate\n",
        "max_iter = 10  # Maximum number of iterations\n",
        "\n",
        "best_solution, best_value = simulated_annealing(func, initial_solution, temp, cooling_rate, max_iter)\n",
        "\n",
        "print(f\"Best solution found: {best_solution}\")\n",
        "print(f\"Best value found: {best_value}\")"
      ],
      "metadata": {
        "colab": {
          "base_uri": "https://localhost:8080/"
        },
        "id": "roaAGuLxbGHP",
        "outputId": "71b24f73-ac71-42c0-86f7-4a94849bc7bc"
      },
      "execution_count": 9,
      "outputs": [
        {
          "output_type": "stream",
          "name": "stdout",
          "text": [
            "Iteration 1/10, Current Temperature: 995.0000, Best Value: 611.0496798332115\n",
            "Iteration 2/10, Current Temperature: 990.0250, Best Value: 611.0496798332115\n",
            "Iteration 3/10, Current Temperature: 985.0749, Best Value: 611.0496798332115\n",
            "Iteration 4/10, Current Temperature: 980.1495, Best Value: 611.0496798332115\n",
            "Iteration 5/10, Current Temperature: 975.2488, Best Value: 602.1631808754772\n",
            "Iteration 6/10, Current Temperature: 970.3725, Best Value: 568.9479839125416\n",
            "Iteration 7/10, Current Temperature: 965.5206, Best Value: 568.9479839125416\n",
            "Iteration 8/10, Current Temperature: 960.6930, Best Value: 562.8314918542308\n",
            "Iteration 9/10, Current Temperature: 955.8896, Best Value: 509.17037003136875\n",
            "Iteration 10/10, Current Temperature: 951.1101, Best Value: 470.0781209116613\n",
            "Best solution found: [8.37134283 8.63755712]\n",
            "Best value found: 470.0781209116613\n"
          ]
        }
      ]
    }
  ]
}