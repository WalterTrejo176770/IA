{
  "nbformat": 4,
  "nbformat_minor": 0,
  "metadata": {
    "colab": {
      "provenance": []
    },
    "kernelspec": {
      "name": "python3",
      "display_name": "Python 3"
    },
    "language_info": {
      "name": "python"
    }
  },
  "cells": [
    {
      "cell_type": "code",
      "execution_count": 2,
      "metadata": {
        "id": "sy1Q_h2tEnL8"
      },
      "outputs": [],
      "source": [
        "import numpy as np\n",
        "import matplotlib.pyplot as plt\n"
      ]
    },
    {
      "cell_type": "markdown",
      "source": [
        "#Exercise 1"
      ],
      "metadata": {
        "id": "eCZY2qwIEv_q"
      }
    },
    {
      "cell_type": "code",
      "source": [
        "# Exercise 1: Gradient Descent Optimization\n",
        "def f(x):\n",
        "    return x**2 + 4*x + 5\n",
        "\n",
        "def df(x):\n",
        "    return 2*x + 4\n",
        "\n",
        "def gradient_descent(x0, alpha, iterations):\n",
        "    x_values = [x0]\n",
        "    for _ in range(iterations):\n",
        "        x0 = x0 - alpha * df(x0)\n",
        "        x_values.append(x0)\n",
        "    return x_values\n",
        "\n",
        "x_start = 1\n",
        "alpha = 0.1\n",
        "iterations = 20\n",
        "x_values = gradient_descent(x_start, alpha, iterations)\n",
        "\n",
        "gx = np.linspace(-5, 3, 100)\n",
        "gy = f(gx)\n",
        "plt.plot(gx, gy, label='f(x)')\n",
        "plt.scatter(x_values, [f(x) for x in x_values], color='red')\n",
        "plt.legend()\n",
        "plt.title('Gradient Descent Convergence')\n",
        "plt.show()"
      ],
      "metadata": {
        "colab": {
          "base_uri": "https://localhost:8080/",
          "height": 452
        },
        "id": "nw44CpgTEvk7",
        "outputId": "9be7e5be-c284-4590-eeb3-d0b7d867a658"
      },
      "execution_count": 3,
      "outputs": [
        {
          "output_type": "display_data",
          "data": {
            "text/plain": [
              "<Figure size 640x480 with 1 Axes>"
            ],
            "image/png": "[encoded data removed]"
          },
          "metadata": {}
        }
      ]
    },
    {
      "cell_type": "markdown",
      "source": [
        "#Exercise 2"
      ],
      "metadata": {
        "id": "vQsxqcgnE3eY"
      }
    },
    {
      "cell_type": "code",
      "source": [
        "# Exercise 2: Knowledge-Based System (Rule-based inference)\n",
        "class KnowledgeBase:\n",
        "    def __init__(self):\n",
        "        self.rules = []\n",
        "        self.facts = set()\n",
        "\n",
        "    def add_rule(self, rule):\n",
        "        self.rules.append(rule)\n",
        "\n",
        "    def add_fact(self, fact):\n",
        "        self.facts.add(fact)\n",
        "\n",
        "    def evaluate(self):\n",
        "        for rule in self.rules:\n",
        "            rule(self)\n",
        "\n",
        "    def verdict(self):\n",
        "        return \"Innocent\" if \"innocent\" in self.facts else \"Guilty\"\n",
        "\n",
        "def case1_rules(kb):\n",
        "    if \"security_video\" in kb.facts and \"fingerprints_clear\" in kb.facts:\n",
        "        kb.add_fact(\"innocent\")\n",
        "\n",
        "def case2_rules(kb):\n",
        "    if \"admits_mistake\" in kb.facts and \"money_from_herintance\" in kb.facts:\n",
        "        kb.add_fact(\"innocent\")\n",
        "\n",
        "def case3_rules(kb):\n",
        "    if \"treaffic_light_analysis\" in kb.facts and \"alcohol_level_legal\" in kb.facts:\n",
        "        kb.add_fact(\"innocent\")\n",
        "\n",
        "case1 = KnowledgeBase()\n",
        "case1.add_fact(\"butler_seen\")\n",
        "case1.add_fact(\"knife_fingerprint\")\n",
        "case1.add_fact(\"debt_with_victim\")\n",
        "case1.add_rule(case1_rules)\n",
        "print(\"Case 1 Verdict before facts:\", case1.verdict())\n",
        "\n",
        "\n",
        "case1.add_fact(\"security_video\")\n",
        "case1.add_fact(\"fingerprints_clear\")\n",
        "case1.evaluate()\n",
        "print(\"Case 1 Verdict:\", case1.verdict())\n",
        "\n",
        "case2 = KnowledgeBase()\n",
        "case2.add_fact(\"recently_fired\")\n",
        "case2.add_fact(\"near_bank\")\n",
        "case2.add_fact(\"stolen_money\")\n",
        "print(\"Case 2 Verdict before facts:\", case2.verdict())\n",
        "\n",
        "\n",
        "case2.add_fact(\"admits_mistake\")\n",
        "case2.add_fact(\"money_from_herintance\")\n",
        "case2.add_rule(case2_rules)\n",
        "print(\"Case 2 Verdict:\", case2.verdict())\n",
        "\n",
        "\n",
        "case3 = KnowledgeBase()\n",
        "case3.add_fact(\"driver_speeding\")\n",
        "case3.add_fact(\"supposed ran redlight\")\n",
        "\n",
        "print(\"Case 3 Verdict before facts:\", case3.verdict())\n",
        "\n",
        "case3.add_fact(\"traffic_light_red\")\n",
        "case3.add_fact(\"alcohol_level_high\")\n"
      ],
      "metadata": {
        "colab": {
          "base_uri": "https://localhost:8080/"
        },
        "id": "cyncM-o0E5Jz",
        "outputId": "aaaad4c6-c5fd-4a01-c311-145ad43e3b50"
      },
      "execution_count": 4,
      "outputs": [
        {
          "output_type": "stream",
          "name": "stdout",
          "text": [
            "Case 1 Verdict before facts: Guilty\n",
            "Case 1 Verdict: Innocent\n",
            "Case 2 Verdict before facts: Guilty\n",
            "Case 2 Verdict: Guilty\n",
            "Case 3 Verdict before facts: Guilty\n"
          ]
        }
      ]
    },
    {
      "cell_type": "markdown",
      "source": [
        "#Exercise 3"
      ],
      "metadata": {
        "id": "dJuuy3Z4bOne"
      }
    },
    {
      "cell_type": "code",
      "source": [
        "# Exercise 3: Emotion Detection using Bayes' Theorem\n",
        "\n",
        "#Give the probabilities\n",
        "data = {\n",
        "    \"Happy\": {\"happy\": 0.25, \"joyful\": 0.125, \"great\": 0.125},\n",
        "    \"Sad\": {\"sad\": 0.2, \"down\": 0.125},\n",
        "    \"Angry\": {\"angry\": 0.15, \"mad\": 0.125}\n",
        "}\n",
        "priors = {\"Happy\": 0.4, \"Sad\": 0.3, \"Angry\": 0.3}\n",
        "\n",
        "\n",
        "def classify_emotion(text):  #define the classifier\n",
        "    words = text.lower().split()\n",
        "    probabilities = {}\n",
        "    for emotion in priors:\n",
        "        p_e = priors[emotion]\n",
        "        p_w_given_e = np.prod([data[emotion].get(word, 0.01) for word in words])\n",
        "        probabilities[emotion] = p_e * p_w_given_e\n",
        "    return max(probabilities, key=probabilities.get)\n",
        "\n",
        "print(\"Emotion Detected:\", classify_emotion(\"I am very angry and happy at the same time\"))\n"
      ],
      "metadata": {
        "colab": {
          "base_uri": "https://localhost:8080/"
        },
        "id": "cPXPX0-vbSBm",
        "outputId": "6da48c18-8e61-4c95-9337-575cdbba4a5a"
      },
      "execution_count": 14,
      "outputs": [
        {
          "output_type": "stream",
          "name": "stdout",
          "text": [
            "Emotion Detected: Happy\n"
          ]
        }
      ]
    },
    {
      "cell_type": "markdown",
      "source": [
        "#Exercise 4"
      ],
      "metadata": {
        "id": "pMXJ-AhRccys"
      }
    },
    {
      "cell_type": "code",
      "source": [
        "# Exercise 4: Fuzzy Logic for Smart Home Lighting Control Without a Library\n",
        "\n",
        "\n",
        "def fuzzy_lighting_control(time_of_day, occupancy):\n",
        "    if 6 <= time_of_day < 12:\n",
        "        lighting = \"Medium\" if occupancy else \"Off\"\n",
        "    elif 12 <= time_of_day < 18:\n",
        "        lighting = \"Low\" if occupancy else \"Off\"\n",
        "    elif 18 <= time_of_day < 21:\n",
        "        lighting = \"High\" if occupancy else \"Off\"\n",
        "    else:\n",
        "        lighting = \"Off\"\n",
        "    return lighting\n",
        "\n",
        "# Example cases\n",
        "print(\"Lighting Intensity at 7 AM, Occupied:\", fuzzy_lighting_control(7, 1))\n",
        "print(\"Lighting Intensity at 1 PM, Unoccupied:\", fuzzy_lighting_control(13, 0))\n",
        "print(\"Lighting Intensity at 7 PM, Occupied:\", fuzzy_lighting_control(19, 1))\n",
        "print(\"Lighting Intensity at 11 PM, Unoccupied:\", fuzzy_lighting_control(23, 0))"
      ],
      "metadata": {
        "colab": {
          "base_uri": "https://localhost:8080/"
        },
        "id": "ql1R2GxecgeV",
        "outputId": "aa99d83d-fb99-42fe-f171-8708f56f4dbe"
      },
      "execution_count": 13,
      "outputs": [
        {
          "output_type": "stream",
          "name": "stdout",
          "text": [
            "Lighting Intensity at 7 AM, Occupied: Medium\n",
            "Lighting Intensity at 1 PM, Unoccupied: Off\n",
            "Lighting Intensity at 7 PM, Occupied: High\n",
            "Lighting Intensity at 11 PM, Unoccupied: Off\n"
          ]
        }
      ]
    }
  ]
}